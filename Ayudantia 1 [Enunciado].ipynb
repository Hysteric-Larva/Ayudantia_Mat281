{
 "cells": [
  {
   "cell_type": "markdown",
   "metadata": {},
   "source": [
    "# <center>Ayudantía 1: ¿Por qué Python?</center></h1>"
   ]
  },
  {
   "cell_type": "markdown",
   "metadata": {},
   "source": [
    "- Razones de peso\n",
    "1) Lenguaje de programacion multiparadigma \n",
    "\n",
    "2) es el mas demandado\n",
    "\n",
    "- Razones prácticas\n",
    "\n",
    "- librerias:\n",
    "\n",
    "1) pyomo: programacion lineal/ no lineal\n",
    "\n",
    "2) numpy algebra lineal para python\n",
    "\n",
    "3) pandas: manejo y procesamiento de informacion\n",
    "\n",
    "5) matplotlib graficos\n",
    "\n",
    "6) sea born - graficos\n",
    "\n",
    "7) tensorflow (deep learning)\n",
    "\n",
    "8) sklearn\n",
    "$$ x = 10$$"
   ]
  },
  {
   "cell_type": "markdown",
   "metadata": {},
   "source": [
    "# Libros de Cocina"
   ]
  },
  {
   "cell_type": "markdown",
   "metadata": {},
   "source": [
    "Algunos ejemplos:\n",
    "    \n",
    "- [Pandas Cookbook](https://pandas.pydata.org/pandas-docs/stable/user_guide/cookbook.html)\n",
    "\n",
    "- [Numpy Cookbook](https://scipy-cookbook.readthedocs.io/items/idx_numpy.html)\n",
    "\n",
    "- [Pyomo Cookbook](https://github.com/jckantor/ND-Pyomo-Cookbook/blob/master/notebooks/toc.md)\n",
    "\n",
    "- [Matplotlib Cookbook](https://matplotlib.org/3.3.1/contents.html)\n",
    "\n",
    "- [Sklearn (scikit) Cookbook](https://github.com/PacktPublishing/scikit-learn-Cookbook-Second-Edition)"
   ]
  },
  {
   "cell_type": "markdown",
   "metadata": {},
   "source": [
    "# Interpretes v/s jupyter ¿Cual usar? "
   ]
  },
  {
   "cell_type": "markdown",
   "metadata": {},
   "source": [
    "# Un problema de Criptografía para empezar\n",
    "\n",
    "Este ejercició nos resultará útil para recordar aspectos básicos de programación en pythona través de la implementación de \n",
    "<img src=\"img1.webp\">\n",
    "\n",
    "\n",
    "En esta ayudantía el Profesor Francisco Alfaro quiere que descifremos un mensaje encriptado:\n",
    "\n",
    "\"nvdip fyjup b njt bmvnopt ftuf tfnftusf dpo tvt sbnpt\"\n",
    "\n",
    "\n",
    "Con la ayuda de un criptoanalísis básico hemos descubrierto que el Profesor utilizó una variante de encriptación César por lo que se sugiere el siguiente procedimiento:\n",
    "\n",
    "1) Planificar modelo.\n",
    "\n",
    "2) Implementar.\n",
    "\n",
    "3) Probar.\n",
    "\n",
    "4) Resolver problema.\n",
    "\n",
    "5) Optimizar Código.\n",
    "\n",
    "¿Por qué es importante estructura de datos en este tipo de problemas?"
   ]
  },
  {
   "cell_type": "markdown",
   "metadata": {},
   "source": [
    "A = 01, B = 02,...... Z=26"
   ]
  },
  {
   "cell_type": "code",
   "execution_count": 1,
   "metadata": {},
   "outputs": [
    {
     "data": {
      "text/plain": [
       "25"
      ]
     },
     "execution_count": 1,
     "metadata": {},
     "output_type": "execute_result"
    }
   ],
   "source": [
    "(0-1)%26"
   ]
  },
  {
   "cell_type": "code",
   "execution_count": 7,
   "metadata": {},
   "outputs": [],
   "source": [
    "alfabeto = [\"a\",\"b\",\"c\",\"d\",\"e\",\"f\",\"g\",\"h\",\"i\",\"j\",\"k\",\"l\",\"m\",\"n\",\"o\",\"p\",\"q\",\"r\",\"s\",\"t\",\"u\",\"v\",\"w\",\"x\",\"y\",\"z\"]\n",
    "mensaje  = \"nvdip fyjup b njt bmvnopt ftuf tfnftusf dpo tvt sbnpt\"\n",
    "nuevo_msj=\"\"\n",
    "for i in mensaje:\n",
    "    for j in range(len(alfabeto)):\n",
    "        if i!=\" \":\n",
    "            if i==alfabeto[j]:\n",
    "                indice = (j-1)%26\n",
    "                nuevo_msj+= alfabeto[j-1]\n",
    "                "
   ]
  },
  {
   "cell_type": "code",
   "execution_count": 8,
   "metadata": {},
   "outputs": [
    {
     "data": {
      "text/plain": [
       "'muchoexitoamisalumnosestesemestreconsusramos'"
      ]
     },
     "execution_count": 8,
     "metadata": {},
     "output_type": "execute_result"
    }
   ],
   "source": [
    "nuevo_msj"
   ]
  },
  {
   "cell_type": "markdown",
   "metadata": {},
   "source": [
    "# Numpy: Una librebría de Algebra lineal para Python\n",
    "\n",
    "En este ejercicio le daremos una utilidad a la librería para el cálculo de matriz inversa y diagonalización. Dado que este es un ejercicio de ejemplo nos daremos una Matriz de 2$\\times$2.\n",
    " \n",
    "\n",
    "$$A = \\begin{pmatrix} 1&2\\\\ 3&1\\\\ \\end{pmatrix}$$\n",
    "\n",
    "Empezaremos por importar la librería:"
   ]
  },
  {
   "cell_type": "code",
   "execution_count": 9,
   "metadata": {},
   "outputs": [],
   "source": [
    "import numpy as np\n",
    "import matplotlib as plt"
   ]
  },
  {
   "cell_type": "markdown",
   "metadata": {},
   "source": [
    "Definiremos nuestras variables"
   ]
  },
  {
   "cell_type": "code",
   "execution_count": 10,
   "metadata": {},
   "outputs": [],
   "source": [
    "A = np.zeros((2,2))"
   ]
  },
  {
   "cell_type": "code",
   "execution_count": 12,
   "metadata": {},
   "outputs": [],
   "source": [
    "A[0][0] = 1\n",
    "A[0][1] = 2\n",
    "A[1][0] = 3\n",
    "A[1][1] = 1"
   ]
  },
  {
   "cell_type": "code",
   "execution_count": 16,
   "metadata": {},
   "outputs": [],
   "source": [
    "A_1 = np.linalg.inv(A)"
   ]
  },
  {
   "cell_type": "markdown",
   "metadata": {},
   "source": [
    "Usaremos la función np.linalg.inv() para invertir"
   ]
  },
  {
   "cell_type": "code",
   "execution_count": 17,
   "metadata": {},
   "outputs": [],
   "source": [
    "from scipy import linalg"
   ]
  },
  {
   "cell_type": "code",
   "execution_count": 18,
   "metadata": {},
   "outputs": [
    {
     "data": {
      "text/plain": [
       "array([ 3.44948974+0.j, -1.44948974+0.j])"
      ]
     },
     "execution_count": 18,
     "metadata": {},
     "output_type": "execute_result"
    }
   ],
   "source": [
    "linalg.eigvals(A)"
   ]
  },
  {
   "cell_type": "code",
   "execution_count": 19,
   "metadata": {},
   "outputs": [
    {
     "data": {
      "text/plain": [
       "array([ 3.44948974+0.j, -1.44948974+0.j])"
      ]
     },
     "execution_count": 19,
     "metadata": {},
     "output_type": "execute_result"
    }
   ],
   "source": [
    "linalg.eig(A, left=True, right=False)[0]"
   ]
  },
  {
   "cell_type": "markdown",
   "metadata": {},
   "source": [
    "$$ A = PDP^{-1}$$"
   ]
  },
  {
   "cell_type": "markdown",
   "metadata": {},
   "source": [
    "Use el comando en este link para calcular los valores propios [Click aqui](https://docs.scipy.org/doc/scipy/reference/generated/scipy.linalg.eig.html)"
   ]
  },
  {
   "cell_type": "markdown",
   "metadata": {},
   "source": [
    "# Referencias\n",
    "\n",
    "- [What is Python?](https://www.python.org/doc/essays/blurb/)\n",
    "\n",
    "- [7 Reasons why python is important](https://medium.com/@mindfiresolutions.usa/python-7-important-reasons-why-you-should-use-python-5801a98a0d0b)\n",
    "\n",
    "- [Why python is best suited for machine learning](https://www.geeksforgeeks.org/why-is-python-the-best-suited-programming-language-for-machine-learning/)\n",
    "\n",
    "- [Top 10 lenguajes de programación más demandados](https://youtu.be/mdh7RJVi1_E)\n",
    "\n",
    "- [Why your company needs python](https://www.datacamp.com/community/blog/why-your-company-needs-python-for-business-analytics)\n",
    "\n",
    "- [Python Carreer Oportunities](https://medium.com/edureka/python-career-opportunities-a2500ce158de)\n"
   ]
  },
  {
   "cell_type": "code",
   "execution_count": null,
   "metadata": {},
   "outputs": [],
   "source": []
  }
 ],
 "metadata": {
  "kernelspec": {
   "display_name": "Python 3",
   "language": "python",
   "name": "python3"
  },
  "language_info": {
   "codemirror_mode": {
    "name": "ipython",
    "version": 3
   },
   "file_extension": ".py",
   "mimetype": "text/x-python",
   "name": "python",
   "nbconvert_exporter": "python",
   "pygments_lexer": "ipython3",
   "version": "3.8.5"
  }
 },
 "nbformat": 4,
 "nbformat_minor": 4
}
